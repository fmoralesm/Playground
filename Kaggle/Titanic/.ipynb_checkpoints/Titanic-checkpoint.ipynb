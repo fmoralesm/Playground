{
 "metadata": {
  "name": ""
 },
 "nbformat": 3,
 "nbformat_minor": 0,
 "worksheets": [
  {
   "cells": [
    {
     "cell_type": "markdown",
     "metadata": {},
     "source": [
      "#### Author: Luis Parra\n",
      "#### April, 2014 \n",
      "\n",
      "# Goal of this Notebook:\n",
      "\n",
      "Analyse the <a href=\"http://www.kaggle.com/c/titanic-gettingStarted\">Titanic set</a> project from the Kaggle, there would be very little data visualization as in <a href=\"https://github.com/agconti/kaggle-titanic\">AGconti</a> already built python notebook, instead I would try to build my own notebook with a different set of features and train it with sklearn, as this is my first Kaggle competition there may be some mistakes so use this notebook with caution!. This guide pretends to be just that a guide of how implement some methods."
     ]
    },
    {
     "cell_type": "markdown",
     "metadata": {},
     "source": [
      "#### First off we have to take care of imports:"
     ]
    },
    {
     "cell_type": "code",
     "collapsed": false,
     "input": [
      "import pandas as pd\n",
      "import numpy as np\n",
      "\n",
      "from pandas import Series,DataFrame,concat\n",
      "from sklearn import datasets, svm\n",
      "from sklearn.linear_model import LogisticRegression\n",
      "from sklearn.ensemble import RandomForestClassifier\n",
      "\n",
      "# For Neural Networks\n",
      "from pybrain.tools.shortcuts import buildNetwork\n",
      "from pybrain.datasets import SupervisedDataSet\n",
      "from pybrain.supervised.trainers import BackpropTrainer"
     ],
     "language": "python",
     "metadata": {},
     "outputs": [],
     "prompt_number": 2
    },
    {
     "cell_type": "markdown",
     "metadata": {},
     "source": [
      "## Data Reading\n",
      "#### Let's read our training and test data in using pandas:"
     ]
    },
    {
     "cell_type": "code",
     "collapsed": false,
     "input": [
      "df_train = pd.read_csv(\"Data/train.csv\")\n",
      "rows_train =  len(df_train) # So we keep track\n",
      "df_test = pd.read_csv(\"Data/test.csv\")\n",
      "rows_test = len(df_test)"
     ],
     "language": "python",
     "metadata": {},
     "outputs": [],
     "prompt_number": 3
    },
    {
     "cell_type": "markdown",
     "metadata": {},
     "source": [
      "To simplify we are going to join both dataframes into one, so all operations done in one is reflected in the other."
     ]
    },
    {
     "cell_type": "code",
     "collapsed": false,
     "input": [
      "df_test['Survived'] = -1\n",
      "df_combi = concat([df_train, df_test], ignore_index=True)\n",
      "df_combi.info()"
     ],
     "language": "python",
     "metadata": {},
     "outputs": [
      {
       "output_type": "stream",
       "stream": "stdout",
       "text": [
        "<class 'pandas.core.frame.DataFrame'>\n",
        "Int64Index: 1309 entries, 0 to 1308\n",
        "Data columns (total 12 columns):\n",
        "Age            1046 non-null float64\n",
        "Cabin          295 non-null object\n",
        "Embarked       1307 non-null object\n",
        "Fare           1308 non-null float64\n",
        "Name           1309 non-null object\n",
        "Parch          1309 non-null int64\n",
        "PassengerId    1309 non-null int64\n",
        "Pclass         1309 non-null int64\n",
        "Sex            1309 non-null object\n",
        "SibSp          1309 non-null int64\n",
        "Survived       1309 non-null int64\n",
        "Ticket         1309 non-null object\n",
        "dtypes: float64(2), int64(5), object(5)"
       ]
      }
     ],
     "prompt_number": 4
    },
    {
     "cell_type": "markdown",
     "metadata": {},
     "source": [
      "## Data cleaning\n",
      "\n",
      "We are going to try a different approach with missing age values, first we are going to read create a new column to our table that contains the title of the name of each person (Mr, Mrs, Miss, Master) then we will calculate the mean of age for each title and use that for our missing data."
     ]
    },
    {
     "cell_type": "markdown",
     "metadata": {},
     "source": [
      "#### Let's find the title\n",
      "\n",
      "There are a couple of ways to create this new column, for example it could create a new a procedure that check each name in the name series, and find the title it corresponds. Its worthy noting that all titles start from a blank space and ends with a dot."
     ]
    },
    {
     "cell_type": "code",
     "collapsed": false,
     "input": [
      "def getTitle(name_series, b):\n",
      "    titles = ['Mr.','Master.','Miss.','Mrs.','Dr.','Rev.','Major.','Sir.','Capt.', 'Countess','Col.', 'Don.']\n",
      "    size = len(name_series)\n",
      "    for i in range(size):\n",
      "        words = name_series[i].split()\n",
      "        for word in words:\n",
      "            if word in titles: # If word is in title add it to the list\n",
      "                b.append(word[0:-1])\n",
      "                break\n",
      "        if i >= len(b):     # If after checking all words I didn't find it in list add empty\n",
      "            b.append(\"\")\n",
      "#b = []\n",
      "#getTitle(df['Name'],b)\n",
      "#print b[0:3] # First three titles\n",
      "#df['Titles'] = b "
     ],
     "language": "python",
     "metadata": {},
     "outputs": [],
     "prompt_number": 5
    },
    {
     "cell_type": "markdown",
     "metadata": {},
     "source": [
      "or we could use pandas procedures to extract from the name series each title, for it we must create a regular expression from the list of known titles, a procedure could be made to do it automatically, but once you understand and know the <a href=\"http://www.python-course.eu/re.php\"> rules for regular expressions </a> is quite easy to do it by hand.\n",
      "\n"
     ]
    },
    {
     "cell_type": "markdown",
     "metadata": {},
     "source": [
      "#### Using regular expression"
     ]
    },
    {
     "cell_type": "code",
     "collapsed": false,
     "input": [
      "pattern = \"\\s((\\w\\w*?))\\\\.\"\n",
      "df_combi['Title'] = df_combi['Name'].str.extract(pattern)[0]\n",
      "df_combi['Title'].describe()"
     ],
     "language": "python",
     "metadata": {},
     "outputs": [
      {
       "metadata": {},
       "output_type": "pyout",
       "prompt_number": 6,
       "text": [
        "count     1309\n",
        "unique      18\n",
        "top         Mr\n",
        "freq       757\n",
        "Name: Title, dtype: object"
       ]
      }
     ],
     "prompt_number": 6
    },
    {
     "cell_type": "markdown",
     "metadata": {},
     "source": [
      "A quick explanation of the regular expression would be:"
     ]
    },
    {
     "cell_type": "markdown",
     "metadata": {},
     "source": [
      "+ \\s is a white space\n",
      "+ [MDRSC] is either M,D,R,S,C\n",
      "+ [tson]? is either t,s,o,n but the ? means it can be present be or not\n",
      "+ (Mrs)? is a group with letters Mrs\n",
      "+ \\w is any alphanumeric character\n",
      "+ \\* means predceding character or group can repeat an arbitrary number of times even zero"
     ]
    },
    {
     "cell_type": "markdown",
     "metadata": {},
     "source": [
      "It's not perfect but it takes care of most of the titles, now we will get a list of the titles that were extracted from the names:"
     ]
    },
    {
     "cell_type": "code",
     "collapsed": false,
     "input": [
      "titles = list(df_combi['Title'].unique())\n",
      "titles"
     ],
     "language": "python",
     "metadata": {},
     "outputs": [
      {
       "metadata": {},
       "output_type": "pyout",
       "prompt_number": 7,
       "text": [
        "['Mr',\n",
        " 'Mrs',\n",
        " 'Miss',\n",
        " 'Master',\n",
        " 'Don',\n",
        " 'Rev',\n",
        " 'Dr',\n",
        " 'Mme',\n",
        " 'Ms',\n",
        " 'Major',\n",
        " 'Lady',\n",
        " 'Sir',\n",
        " 'Mlle',\n",
        " 'Col',\n",
        " 'Capt',\n",
        " 'Countess',\n",
        " 'Jonkheer',\n",
        " 'Dona']"
       ]
      }
     ],
     "prompt_number": 7
    },
    {
     "cell_type": "markdown",
     "metadata": {},
     "source": [
      "#### Alright, now we are going we need to fill our missing ages:\n",
      "\n",
      "\n",
      "\n",
      "To do so, we are going to get the median of each category of titles. Alright, first lets define a new column \"AgeFill\" that inherites the values from \"Age\"."
     ]
    },
    {
     "cell_type": "code",
     "collapsed": false,
     "input": [
      "df_combi['AgeFill'] = df_combi['Age']\n",
      "#df_combi[ df_combi['Age'].isnull() ] # Shows values where Age is NaN"
     ],
     "language": "python",
     "metadata": {},
     "outputs": [],
     "prompt_number": 8
    },
    {
     "cell_type": "markdown",
     "metadata": {},
     "source": [
      "Now lets get the median value of age for each title:"
     ]
    },
    {
     "cell_type": "code",
     "collapsed": false,
     "input": [
      "def MedianTitle(df,title):\n",
      "    median = 0\n",
      "    temp = df[(df['Title'] == title) & (df['Age'].notnull())][['PassengerId','Age','Title']] # equal to title and not null\n",
      "    median = temp['Age'].median()\n",
      "    return median\n",
      "\n",
      "medians = {}\n",
      "for value in titles:\n",
      "    medians[value] = MedianTitle(df_combi,value)\n",
      "medians"
     ],
     "language": "python",
     "metadata": {},
     "outputs": [
      {
       "metadata": {},
       "output_type": "pyout",
       "prompt_number": 9,
       "text": [
        "{'Capt': 70.0,\n",
        " 'Col': 54.5,\n",
        " 'Countess': 33.0,\n",
        " 'Don': 40.0,\n",
        " 'Dona': 39.0,\n",
        " 'Dr': 49.0,\n",
        " 'Jonkheer': 38.0,\n",
        " 'Lady': 48.0,\n",
        " 'Major': 48.5,\n",
        " 'Master': 4.0,\n",
        " 'Miss': 22.0,\n",
        " 'Mlle': 24.0,\n",
        " 'Mme': 24.0,\n",
        " 'Mr': 29.0,\n",
        " 'Mrs': 35.5,\n",
        " 'Ms': 28.0,\n",
        " 'Rev': 41.5,\n",
        " 'Sir': 49.0}"
       ]
      }
     ],
     "prompt_number": 9
    },
    {
     "cell_type": "markdown",
     "metadata": {},
     "source": [
      "Now lets fill in our new found values, go through each NaN value of \"AgeFill\" see what Title it has and use the median"
     ]
    },
    {
     "cell_type": "code",
     "collapsed": false,
     "input": [
      "for value in titles:\n",
      "    df_combi.loc[(df_combi['Title'] == value) & (df_combi['Age'].isnull()), 'AgeFill'] = medians[value]\n",
      "\n",
      "#df_combi[df_combi['Age'].isnull() ][['Sex','Title','Age','AgeFill']].head(20) # Shows the values we just changed\n",
      "df_combi.info()"
     ],
     "language": "python",
     "metadata": {},
     "outputs": [
      {
       "output_type": "stream",
       "stream": "stdout",
       "text": [
        "<class 'pandas.core.frame.DataFrame'>\n",
        "Int64Index: 1309 entries, 0 to 1308\n",
        "Data columns (total 14 columns):\n",
        "Age            1046 non-null float64\n",
        "Cabin          295 non-null object\n",
        "Embarked       1307 non-null object\n",
        "Fare           1308 non-null float64\n",
        "Name           1309 non-null object\n",
        "Parch          1309 non-null int64\n",
        "PassengerId    1309 non-null int64\n",
        "Pclass         1309 non-null int64\n",
        "Sex            1309 non-null object\n",
        "SibSp          1309 non-null int64\n",
        "Survived       1309 non-null int64\n",
        "Ticket         1309 non-null object\n",
        "Title          1309 non-null object\n",
        "AgeFill        1309 non-null float64\n",
        "dtypes: float64(3), int64(5), object(6)"
       ]
      }
     ],
     "prompt_number": 10
    },
    {
     "cell_type": "markdown",
     "metadata": {},
     "source": [
      "#### Fill our missing NaN in Embarked with the most usual place, the same with Fare but with mean"
     ]
    },
    {
     "cell_type": "code",
     "collapsed": false,
     "input": [
      "df_combi.loc[df_combi['Embarked'].isnull(), 'Embarked'] = df_combi['Embarked'].describe().top  # It's done this way because is a string\n",
      "df_combi.loc[df_combi['Fare'].isnull(),'Fare'] = df_combi['Fare'].mean()"
     ],
     "language": "python",
     "metadata": {},
     "outputs": [],
     "prompt_number": 11
    },
    {
     "cell_type": "markdown",
     "metadata": {},
     "source": [
      "Now that we have filled all our missing NaNs, lets create a couple of features like  in <a href=\"http://www.kaggle.com/c/titanic-gettingStarted/details/getting-started-with-python-ii\"> tutorial </a>:"
     ]
    },
    {
     "cell_type": "code",
     "collapsed": false,
     "input": [
      "df_combi['FamilySize'] = df_combi['SibSp'] + df_combi['Parch']\n",
      "df_combi['Age*Class'] = df_combi.AgeFill * df_combi.Pclass"
     ],
     "language": "python",
     "metadata": {},
     "outputs": [],
     "prompt_number": 12
    },
    {
     "cell_type": "markdown",
     "metadata": {},
     "source": [
      "#### Once, we have all the features we wanted lets turn object - categorical features to int for analyzing:"
     ]
    },
    {
     "cell_type": "code",
     "collapsed": false,
     "input": [
      "#print df_train.dtypes\n",
      "# Sex\n",
      "sex_factor = pd.Categorical.from_array(df_combi['Sex']) # default order alphabetical: 0 = female, 1 = male\n",
      "df_combi['Gender'] = sex_factor.labels # insert in dataframe\n",
      "\n",
      "# Embarked\n",
      "embark_factor = pd.Categorical.from_array(df_combi['Embarked']) # default order alphabetical\n",
      "df_combi['Embark_int'] = embark_factor.labels # insert in dataframe\n",
      "\n",
      "# Title\n",
      "title_factor = pd.Categorical.from_array(df_combi['Title']) # default order alphabetical\n",
      "df_combi['Title_int'] = title_factor.labels # insert in dataframe\n",
      "\n",
      "df_combi.head(3)"
     ],
     "language": "python",
     "metadata": {},
     "outputs": [
      {
       "html": [
        "<div style=\"max-height:1000px;max-width:1500px;overflow:auto;\">\n",
        "<table border=\"1\" class=\"dataframe\">\n",
        "  <thead>\n",
        "    <tr style=\"text-align: right;\">\n",
        "      <th></th>\n",
        "      <th>Age</th>\n",
        "      <th>Cabin</th>\n",
        "      <th>Embarked</th>\n",
        "      <th>Fare</th>\n",
        "      <th>Name</th>\n",
        "      <th>Parch</th>\n",
        "      <th>PassengerId</th>\n",
        "      <th>Pclass</th>\n",
        "      <th>Sex</th>\n",
        "      <th>SibSp</th>\n",
        "      <th>Survived</th>\n",
        "      <th>Ticket</th>\n",
        "      <th>Title</th>\n",
        "      <th>AgeFill</th>\n",
        "      <th>FamilySize</th>\n",
        "      <th>Age*Class</th>\n",
        "      <th>Gender</th>\n",
        "      <th>Embark_int</th>\n",
        "      <th>Title_int</th>\n",
        "    </tr>\n",
        "  </thead>\n",
        "  <tbody>\n",
        "    <tr>\n",
        "      <th>0</th>\n",
        "      <td> 22</td>\n",
        "      <td> NaN</td>\n",
        "      <td> S</td>\n",
        "      <td>  7.2500</td>\n",
        "      <td>                           Braund, Mr. Owen Harris</td>\n",
        "      <td> 0</td>\n",
        "      <td> 1</td>\n",
        "      <td> 3</td>\n",
        "      <td>   male</td>\n",
        "      <td> 1</td>\n",
        "      <td> 0</td>\n",
        "      <td>        A/5 21171</td>\n",
        "      <td>   Mr</td>\n",
        "      <td> 22</td>\n",
        "      <td> 1</td>\n",
        "      <td> 66</td>\n",
        "      <td> 1</td>\n",
        "      <td> 2</td>\n",
        "      <td> 13</td>\n",
        "    </tr>\n",
        "    <tr>\n",
        "      <th>1</th>\n",
        "      <td> 38</td>\n",
        "      <td> C85</td>\n",
        "      <td> C</td>\n",
        "      <td> 71.2833</td>\n",
        "      <td> Cumings, Mrs. John Bradley (Florence Briggs Th...</td>\n",
        "      <td> 0</td>\n",
        "      <td> 2</td>\n",
        "      <td> 1</td>\n",
        "      <td> female</td>\n",
        "      <td> 1</td>\n",
        "      <td> 1</td>\n",
        "      <td>         PC 17599</td>\n",
        "      <td>  Mrs</td>\n",
        "      <td> 38</td>\n",
        "      <td> 1</td>\n",
        "      <td> 38</td>\n",
        "      <td> 0</td>\n",
        "      <td> 0</td>\n",
        "      <td> 14</td>\n",
        "    </tr>\n",
        "    <tr>\n",
        "      <th>2</th>\n",
        "      <td> 26</td>\n",
        "      <td> NaN</td>\n",
        "      <td> S</td>\n",
        "      <td>  7.9250</td>\n",
        "      <td>                            Heikkinen, Miss. Laina</td>\n",
        "      <td> 0</td>\n",
        "      <td> 3</td>\n",
        "      <td> 3</td>\n",
        "      <td> female</td>\n",
        "      <td> 0</td>\n",
        "      <td> 1</td>\n",
        "      <td> STON/O2. 3101282</td>\n",
        "      <td> Miss</td>\n",
        "      <td> 26</td>\n",
        "      <td> 0</td>\n",
        "      <td> 78</td>\n",
        "      <td> 0</td>\n",
        "      <td> 2</td>\n",
        "      <td> 10</td>\n",
        "    </tr>\n",
        "  </tbody>\n",
        "</table>\n",
        "<p>3 rows \u00d7 19 columns</p>\n",
        "</div>"
       ],
       "metadata": {},
       "output_type": "pyout",
       "prompt_number": 13,
       "text": [
        "   Age Cabin Embarked     Fare  \\\n",
        "0   22   NaN        S   7.2500   \n",
        "1   38   C85        C  71.2833   \n",
        "2   26   NaN        S   7.9250   \n",
        "\n",
        "                                                Name  Parch  PassengerId  \\\n",
        "0                            Braund, Mr. Owen Harris      0            1   \n",
        "1  Cumings, Mrs. John Bradley (Florence Briggs Th...      0            2   \n",
        "2                             Heikkinen, Miss. Laina      0            3   \n",
        "\n",
        "   Pclass     Sex  SibSp  Survived            Ticket Title  AgeFill  \\\n",
        "0       3    male      1         0         A/5 21171    Mr       22   \n",
        "1       1  female      1         1          PC 17599   Mrs       38   \n",
        "2       3  female      0         1  STON/O2. 3101282  Miss       26   \n",
        "\n",
        "   FamilySize  Age*Class  Gender  Embark_int  Title_int  \n",
        "0           1         66       1           2         13  \n",
        "1           1         38       0           0         14  \n",
        "2           0         78       0           2         10  \n",
        "\n",
        "[3 rows x 19 columns]"
       ]
      }
     ],
     "prompt_number": 13
    },
    {
     "cell_type": "markdown",
     "metadata": {},
     "source": [
      "#### At this point we have a unregularized set a df_combi, we are going to create a new one regularized for NN and other approaches."
     ]
    },
    {
     "cell_type": "markdown",
     "metadata": {},
     "source": [
      "Analyzing each column we have: \n",
      "\n",
      "+ Pclass: will be divided into three columns 1st 2nd and 3rd class respectively and assign a 1-0 \n",
      "+ AgeFill_ will be <a href=\"https://en.wikipedia.org/wiki/Feature_scaling\"> normalized</a> to 1-0\n",
      "+ SibSp + Parch = FamilySize: will be changed to 3 Sets, No Family, Small (1-2) or Big(> 2)\n",
      "+ Ticket: I have no idea what can be done with this column so it will be removed\n",
      "+ Fare: will be normalized\n",
      "+ Embarked: will be divided into three columns\n",
      "+ Title: This time this will be divided into 4 Columns\n",
      "    + Mr: only Mr\n",
      "    + Mrs: (Miss, Mme, Ms, Mlle)\n",
      "    + Babies: Master \n",
      "    + Aristocrat + Militar: (Capt, Col, Countess, Don, Dr, Etc) In our algorithm anything not in last 3 columns is an Aristocrat\n",
      "+ Age*Class: Will be normalized to 1-0\n",
      "\n",
      "So lets start!:\n"
     ]
    },
    {
     "cell_type": "code",
     "collapsed": false,
     "input": [
      "# Create a new dataframe and take only the values we are interested in\n",
      "df_combreg = DataFrame()\n",
      "df_combreg['PassengerId'] = df_combi['PassengerId']\n",
      "\n",
      "# First create three columns for Pclass\n",
      "df_combreg[\"1st\"] = 0\n",
      "df_combreg[\"2nd\"] = 0\n",
      "df_combreg[\"3rd\"] = 0\n",
      "\n",
      "# Fill columns just created\n",
      "df_combreg.loc[(df_combi['Pclass'] == 1), '1st'] = 1\n",
      "df_combreg.loc[(df_combi['Pclass'] == 2), '2nd'] = 1\n",
      "df_combreg.loc[(df_combi['Pclass'] == 3), '3rd'] = 1\n",
      "\n",
      "df_combreg.head(2) # Visualize results"
     ],
     "language": "python",
     "metadata": {},
     "outputs": [
      {
       "html": [
        "<div style=\"max-height:1000px;max-width:1500px;overflow:auto;\">\n",
        "<table border=\"1\" class=\"dataframe\">\n",
        "  <thead>\n",
        "    <tr style=\"text-align: right;\">\n",
        "      <th></th>\n",
        "      <th>PassengerId</th>\n",
        "      <th>1st</th>\n",
        "      <th>2nd</th>\n",
        "      <th>3rd</th>\n",
        "    </tr>\n",
        "  </thead>\n",
        "  <tbody>\n",
        "    <tr>\n",
        "      <th>0</th>\n",
        "      <td> 1</td>\n",
        "      <td> 0</td>\n",
        "      <td> 0</td>\n",
        "      <td> 1</td>\n",
        "    </tr>\n",
        "    <tr>\n",
        "      <th>1</th>\n",
        "      <td> 2</td>\n",
        "      <td> 1</td>\n",
        "      <td> 0</td>\n",
        "      <td> 0</td>\n",
        "    </tr>\n",
        "  </tbody>\n",
        "</table>\n",
        "<p>2 rows \u00d7 4 columns</p>\n",
        "</div>"
       ],
       "metadata": {},
       "output_type": "pyout",
       "prompt_number": 14,
       "text": [
        "   PassengerId  1st  2nd  3rd\n",
        "0            1    0    0    1\n",
        "1            2    1    0    0\n",
        "\n",
        "[2 rows x 4 columns]"
       ]
      }
     ],
     "prompt_number": 14
    },
    {
     "cell_type": "code",
     "collapsed": false,
     "input": [
      "# Normalize AgeFill - At new Column named AgeFillN\n",
      "df_combreg['AgeFillN'] = (df_combi['AgeFill'] - df_combi['AgeFill'].mean())/df_combi['AgeFill'].std()\n",
      "df_combreg.head(2) # Visualize results"
     ],
     "language": "python",
     "metadata": {},
     "outputs": [
      {
       "html": [
        "<div style=\"max-height:1000px;max-width:1500px;overflow:auto;\">\n",
        "<table border=\"1\" class=\"dataframe\">\n",
        "  <thead>\n",
        "    <tr style=\"text-align: right;\">\n",
        "      <th></th>\n",
        "      <th>PassengerId</th>\n",
        "      <th>1st</th>\n",
        "      <th>2nd</th>\n",
        "      <th>3rd</th>\n",
        "      <th>AgeFillN</th>\n",
        "    </tr>\n",
        "  </thead>\n",
        "  <tbody>\n",
        "    <tr>\n",
        "      <th>0</th>\n",
        "      <td> 1</td>\n",
        "      <td> 0</td>\n",
        "      <td> 0</td>\n",
        "      <td> 1</td>\n",
        "      <td>-0.564620</td>\n",
        "    </tr>\n",
        "    <tr>\n",
        "      <th>1</th>\n",
        "      <td> 2</td>\n",
        "      <td> 1</td>\n",
        "      <td> 0</td>\n",
        "      <td> 0</td>\n",
        "      <td> 0.650838</td>\n",
        "    </tr>\n",
        "  </tbody>\n",
        "</table>\n",
        "<p>2 rows \u00d7 5 columns</p>\n",
        "</div>"
       ],
       "metadata": {},
       "output_type": "pyout",
       "prompt_number": 15,
       "text": [
        "   PassengerId  1st  2nd  3rd  AgeFillN\n",
        "0            1    0    0    1 -0.564620\n",
        "1            2    1    0    0  0.650838\n",
        "\n",
        "[2 rows x 5 columns]"
       ]
      }
     ],
     "prompt_number": 15
    },
    {
     "cell_type": "code",
     "collapsed": false,
     "input": [
      "# Create Families  columns\n",
      "df_combreg['NoFamily'],df_combreg['SmallFamily'],df_combreg['BigFamily'] = 0,0,0\n",
      "df_combreg.loc[(df_combi['FamilySize'] == 0), 'NoFamily'] = 1\n",
      "df_combreg.loc[(df_combi['FamilySize'] > 0) & (df_combi['FamilySize'] <= 2), 'SmallFamily'] = 1\n",
      "df_combreg.loc[(df_combi['FamilySize'] > 2), 'BigFamily'] = 1\n",
      "df_combreg.head(2) # Visualize results"
     ],
     "language": "python",
     "metadata": {},
     "outputs": [
      {
       "html": [
        "<div style=\"max-height:1000px;max-width:1500px;overflow:auto;\">\n",
        "<table border=\"1\" class=\"dataframe\">\n",
        "  <thead>\n",
        "    <tr style=\"text-align: right;\">\n",
        "      <th></th>\n",
        "      <th>PassengerId</th>\n",
        "      <th>1st</th>\n",
        "      <th>2nd</th>\n",
        "      <th>3rd</th>\n",
        "      <th>AgeFillN</th>\n",
        "      <th>NoFamily</th>\n",
        "      <th>SmallFamily</th>\n",
        "      <th>BigFamily</th>\n",
        "    </tr>\n",
        "  </thead>\n",
        "  <tbody>\n",
        "    <tr>\n",
        "      <th>0</th>\n",
        "      <td> 1</td>\n",
        "      <td> 0</td>\n",
        "      <td> 0</td>\n",
        "      <td> 1</td>\n",
        "      <td>-0.564620</td>\n",
        "      <td> 0</td>\n",
        "      <td> 1</td>\n",
        "      <td> 0</td>\n",
        "    </tr>\n",
        "    <tr>\n",
        "      <th>1</th>\n",
        "      <td> 2</td>\n",
        "      <td> 1</td>\n",
        "      <td> 0</td>\n",
        "      <td> 0</td>\n",
        "      <td> 0.650838</td>\n",
        "      <td> 0</td>\n",
        "      <td> 1</td>\n",
        "      <td> 0</td>\n",
        "    </tr>\n",
        "  </tbody>\n",
        "</table>\n",
        "<p>2 rows \u00d7 8 columns</p>\n",
        "</div>"
       ],
       "metadata": {},
       "output_type": "pyout",
       "prompt_number": 16,
       "text": [
        "   PassengerId  1st  2nd  3rd  AgeFillN  NoFamily  SmallFamily  BigFamily\n",
        "0            1    0    0    1 -0.564620         0            1          0\n",
        "1            2    1    0    0  0.650838         0            1          0\n",
        "\n",
        "[2 rows x 8 columns]"
       ]
      }
     ],
     "prompt_number": 16
    },
    {
     "cell_type": "code",
     "collapsed": false,
     "input": [
      "# Normalize Fare\n",
      "df_combreg['FareN'] = (df_combi['Fare'] - df_combi['Fare'].mean())/df_combi['Fare'].std()\n",
      "df_combreg.head(2) # Visualize results"
     ],
     "language": "python",
     "metadata": {},
     "outputs": [
      {
       "html": [
        "<div style=\"max-height:1000px;max-width:1500px;overflow:auto;\">\n",
        "<table border=\"1\" class=\"dataframe\">\n",
        "  <thead>\n",
        "    <tr style=\"text-align: right;\">\n",
        "      <th></th>\n",
        "      <th>PassengerId</th>\n",
        "      <th>1st</th>\n",
        "      <th>2nd</th>\n",
        "      <th>3rd</th>\n",
        "      <th>AgeFillN</th>\n",
        "      <th>NoFamily</th>\n",
        "      <th>SmallFamily</th>\n",
        "      <th>BigFamily</th>\n",
        "      <th>FareN</th>\n",
        "    </tr>\n",
        "  </thead>\n",
        "  <tbody>\n",
        "    <tr>\n",
        "      <th>0</th>\n",
        "      <td> 1</td>\n",
        "      <td> 0</td>\n",
        "      <td> 0</td>\n",
        "      <td> 1</td>\n",
        "      <td>-0.564620</td>\n",
        "      <td> 0</td>\n",
        "      <td> 1</td>\n",
        "      <td> 0</td>\n",
        "      <td>-0.503402</td>\n",
        "    </tr>\n",
        "    <tr>\n",
        "      <th>1</th>\n",
        "      <td> 2</td>\n",
        "      <td> 1</td>\n",
        "      <td> 0</td>\n",
        "      <td> 0</td>\n",
        "      <td> 0.650838</td>\n",
        "      <td> 0</td>\n",
        "      <td> 1</td>\n",
        "      <td> 0</td>\n",
        "      <td> 0.734222</td>\n",
        "    </tr>\n",
        "  </tbody>\n",
        "</table>\n",
        "<p>2 rows \u00d7 9 columns</p>\n",
        "</div>"
       ],
       "metadata": {},
       "output_type": "pyout",
       "prompt_number": 17,
       "text": [
        "   PassengerId  1st  2nd  3rd  AgeFillN  NoFamily  SmallFamily  BigFamily  \\\n",
        "0            1    0    0    1 -0.564620         0            1          0   \n",
        "1            2    1    0    0  0.650838         0            1          0   \n",
        "\n",
        "      FareN  \n",
        "0 -0.503402  \n",
        "1  0.734222  \n",
        "\n",
        "[2 rows x 9 columns]"
       ]
      }
     ],
     "prompt_number": 17
    },
    {
     "cell_type": "code",
     "collapsed": false,
     "input": [
      "# Extra columns for titles\n",
      "df_combreg['Mr'], df_combreg['Mrs'], df_combreg['Baby'], df_combreg['Wealthy'] = 0,0,0,0\n",
      "\n",
      "# Fill this columns\n",
      "df_combreg.loc[(df_combi['Title'] == 'Mr'), 'Mr'] = 1\n",
      "df_combreg.loc[(df_combi['Title'] == 'Mrs') | (df_combi['Title'] == 'Miss') | (df_combi['Title'] == 'Mme') \\\n",
      "              | (df_combi['Title'] == 'Ms') | (df_combi['Title'] == 'Mlle') , 'Mrs'] = 1\n",
      "df_combreg.loc[(df_combi['Title'] == 'Master'), 'Baby'] = 1\n",
      "df_combreg.loc[(df_combreg['Mr'] == 0) & (df_combreg['Mrs'] == 0) & (df_combreg['Baby'] == 0), 'Wealthy'] = 1\n",
      "df_combreg.head(2) # Visualize result"
     ],
     "language": "python",
     "metadata": {},
     "outputs": [
      {
       "html": [
        "<div style=\"max-height:1000px;max-width:1500px;overflow:auto;\">\n",
        "<table border=\"1\" class=\"dataframe\">\n",
        "  <thead>\n",
        "    <tr style=\"text-align: right;\">\n",
        "      <th></th>\n",
        "      <th>PassengerId</th>\n",
        "      <th>1st</th>\n",
        "      <th>2nd</th>\n",
        "      <th>3rd</th>\n",
        "      <th>AgeFillN</th>\n",
        "      <th>NoFamily</th>\n",
        "      <th>SmallFamily</th>\n",
        "      <th>BigFamily</th>\n",
        "      <th>FareN</th>\n",
        "      <th>Mr</th>\n",
        "      <th>Mrs</th>\n",
        "      <th>Baby</th>\n",
        "      <th>Wealthy</th>\n",
        "    </tr>\n",
        "  </thead>\n",
        "  <tbody>\n",
        "    <tr>\n",
        "      <th>0</th>\n",
        "      <td> 1</td>\n",
        "      <td> 0</td>\n",
        "      <td> 0</td>\n",
        "      <td> 1</td>\n",
        "      <td>-0.564620</td>\n",
        "      <td> 0</td>\n",
        "      <td> 1</td>\n",
        "      <td> 0</td>\n",
        "      <td>-0.503402</td>\n",
        "      <td> 1</td>\n",
        "      <td> 0</td>\n",
        "      <td> 0</td>\n",
        "      <td> 0</td>\n",
        "    </tr>\n",
        "    <tr>\n",
        "      <th>1</th>\n",
        "      <td> 2</td>\n",
        "      <td> 1</td>\n",
        "      <td> 0</td>\n",
        "      <td> 0</td>\n",
        "      <td> 0.650838</td>\n",
        "      <td> 0</td>\n",
        "      <td> 1</td>\n",
        "      <td> 0</td>\n",
        "      <td> 0.734222</td>\n",
        "      <td> 0</td>\n",
        "      <td> 1</td>\n",
        "      <td> 0</td>\n",
        "      <td> 0</td>\n",
        "    </tr>\n",
        "  </tbody>\n",
        "</table>\n",
        "<p>2 rows \u00d7 13 columns</p>\n",
        "</div>"
       ],
       "metadata": {},
       "output_type": "pyout",
       "prompt_number": 18,
       "text": [
        "   PassengerId  1st  2nd  3rd  AgeFillN  NoFamily  SmallFamily  BigFamily  \\\n",
        "0            1    0    0    1 -0.564620         0            1          0   \n",
        "1            2    1    0    0  0.650838         0            1          0   \n",
        "\n",
        "      FareN  Mr  Mrs  Baby  Wealthy  \n",
        "0 -0.503402   1    0     0        0  \n",
        "1  0.734222   0    1     0        0  \n",
        "\n",
        "[2 rows x 13 columns]"
       ]
      }
     ],
     "prompt_number": 18
    },
    {
     "cell_type": "code",
     "collapsed": false,
     "input": [
      "# Extra columns for Embarked\n",
      "df_combreg['S'], df_combreg['C'], df_combreg['Q'] = 0,0,0\n",
      "\n",
      "# Fill this columns\n",
      "df_combreg.loc[(df_combi['Embarked'] == 'S'), 'S'] = 1\n",
      "df_combreg.loc[(df_combi['Embarked'] == 'C'), 'C'] = 1\n",
      "df_combreg.loc[(df_combi['Embarked'] == 'Q'), 'Q'] = 1\n",
      "df_combreg.head(2) # Visualize result"
     ],
     "language": "python",
     "metadata": {},
     "outputs": [
      {
       "html": [
        "<div style=\"max-height:1000px;max-width:1500px;overflow:auto;\">\n",
        "<table border=\"1\" class=\"dataframe\">\n",
        "  <thead>\n",
        "    <tr style=\"text-align: right;\">\n",
        "      <th></th>\n",
        "      <th>PassengerId</th>\n",
        "      <th>1st</th>\n",
        "      <th>2nd</th>\n",
        "      <th>3rd</th>\n",
        "      <th>AgeFillN</th>\n",
        "      <th>NoFamily</th>\n",
        "      <th>SmallFamily</th>\n",
        "      <th>BigFamily</th>\n",
        "      <th>FareN</th>\n",
        "      <th>Mr</th>\n",
        "      <th>Mrs</th>\n",
        "      <th>Baby</th>\n",
        "      <th>Wealthy</th>\n",
        "      <th>S</th>\n",
        "      <th>C</th>\n",
        "      <th>Q</th>\n",
        "    </tr>\n",
        "  </thead>\n",
        "  <tbody>\n",
        "    <tr>\n",
        "      <th>0</th>\n",
        "      <td> 1</td>\n",
        "      <td> 0</td>\n",
        "      <td> 0</td>\n",
        "      <td> 1</td>\n",
        "      <td>-0.564620</td>\n",
        "      <td> 0</td>\n",
        "      <td> 1</td>\n",
        "      <td> 0</td>\n",
        "      <td>-0.503402</td>\n",
        "      <td> 1</td>\n",
        "      <td> 0</td>\n",
        "      <td> 0</td>\n",
        "      <td> 0</td>\n",
        "      <td> 1</td>\n",
        "      <td> 0</td>\n",
        "      <td> 0</td>\n",
        "    </tr>\n",
        "    <tr>\n",
        "      <th>1</th>\n",
        "      <td> 2</td>\n",
        "      <td> 1</td>\n",
        "      <td> 0</td>\n",
        "      <td> 0</td>\n",
        "      <td> 0.650838</td>\n",
        "      <td> 0</td>\n",
        "      <td> 1</td>\n",
        "      <td> 0</td>\n",
        "      <td> 0.734222</td>\n",
        "      <td> 0</td>\n",
        "      <td> 1</td>\n",
        "      <td> 0</td>\n",
        "      <td> 0</td>\n",
        "      <td> 0</td>\n",
        "      <td> 1</td>\n",
        "      <td> 0</td>\n",
        "    </tr>\n",
        "  </tbody>\n",
        "</table>\n",
        "<p>2 rows \u00d7 16 columns</p>\n",
        "</div>"
       ],
       "metadata": {},
       "output_type": "pyout",
       "prompt_number": 19,
       "text": [
        "   PassengerId  1st  2nd  3rd  AgeFillN  NoFamily  SmallFamily  BigFamily  \\\n",
        "0            1    0    0    1 -0.564620         0            1          0   \n",
        "1            2    1    0    0  0.650838         0            1          0   \n",
        "\n",
        "      FareN  Mr  Mrs  Baby  Wealthy  S  C  Q  \n",
        "0 -0.503402   1    0     0        0  1  0  0  \n",
        "1  0.734222   0    1     0        0  0  1  0  \n",
        "\n",
        "[2 rows x 16 columns]"
       ]
      }
     ],
     "prompt_number": 19
    },
    {
     "cell_type": "code",
     "collapsed": false,
     "input": [
      "# Last one... Normalize age-class\n",
      "df_combreg['Age*ClassN'] = (df_combi['Age*Class'] - df_combi['Age*Class'].mean())/df_combi['Age*Class'].std()\n",
      "df_combreg.head(2)"
     ],
     "language": "python",
     "metadata": {},
     "outputs": [
      {
       "html": [
        "<div style=\"max-height:1000px;max-width:1500px;overflow:auto;\">\n",
        "<table border=\"1\" class=\"dataframe\">\n",
        "  <thead>\n",
        "    <tr style=\"text-align: right;\">\n",
        "      <th></th>\n",
        "      <th>PassengerId</th>\n",
        "      <th>1st</th>\n",
        "      <th>2nd</th>\n",
        "      <th>3rd</th>\n",
        "      <th>AgeFillN</th>\n",
        "      <th>NoFamily</th>\n",
        "      <th>SmallFamily</th>\n",
        "      <th>BigFamily</th>\n",
        "      <th>FareN</th>\n",
        "      <th>Mr</th>\n",
        "      <th>Mrs</th>\n",
        "      <th>Baby</th>\n",
        "      <th>Wealthy</th>\n",
        "      <th>S</th>\n",
        "      <th>C</th>\n",
        "      <th>Q</th>\n",
        "      <th>Age*ClassN</th>\n",
        "    </tr>\n",
        "  </thead>\n",
        "  <tbody>\n",
        "    <tr>\n",
        "      <th>0</th>\n",
        "      <td> 1</td>\n",
        "      <td> 0</td>\n",
        "      <td> 0</td>\n",
        "      <td> 1</td>\n",
        "      <td>-0.564620</td>\n",
        "      <td> 0</td>\n",
        "      <td> 1</td>\n",
        "      <td> 0</td>\n",
        "      <td>-0.503402</td>\n",
        "      <td> 1</td>\n",
        "      <td> 0</td>\n",
        "      <td> 0</td>\n",
        "      <td> 0</td>\n",
        "      <td> 1</td>\n",
        "      <td> 0</td>\n",
        "      <td> 0</td>\n",
        "      <td> 0.087987</td>\n",
        "    </tr>\n",
        "    <tr>\n",
        "      <th>1</th>\n",
        "      <td> 2</td>\n",
        "      <td> 1</td>\n",
        "      <td> 0</td>\n",
        "      <td> 0</td>\n",
        "      <td> 0.650838</td>\n",
        "      <td> 0</td>\n",
        "      <td> 1</td>\n",
        "      <td> 0</td>\n",
        "      <td> 0.734222</td>\n",
        "      <td> 0</td>\n",
        "      <td> 1</td>\n",
        "      <td> 0</td>\n",
        "      <td> 0</td>\n",
        "      <td> 0</td>\n",
        "      <td> 1</td>\n",
        "      <td> 0</td>\n",
        "      <td>-0.800153</td>\n",
        "    </tr>\n",
        "  </tbody>\n",
        "</table>\n",
        "<p>2 rows \u00d7 17 columns</p>\n",
        "</div>"
       ],
       "metadata": {},
       "output_type": "pyout",
       "prompt_number": 20,
       "text": [
        "   PassengerId  1st  2nd  3rd  AgeFillN  NoFamily  SmallFamily  BigFamily  \\\n",
        "0            1    0    0    1 -0.564620         0            1          0   \n",
        "1            2    1    0    0  0.650838         0            1          0   \n",
        "\n",
        "      FareN  Mr  Mrs  Baby  Wealthy  S  C  Q  Age*ClassN  \n",
        "0 -0.503402   1    0     0        0  1  0  0    0.087987  \n",
        "1  0.734222   0    1     0        0  0  1  0   -0.800153  \n",
        "\n",
        "[2 rows x 17 columns]"
       ]
      }
     ],
     "prompt_number": 20
    },
    {
     "cell_type": "markdown",
     "metadata": {},
     "source": [
      "#### Now we have a nice regularized set for experimentation!, what is left is break our dataframe in two sets training and test."
     ]
    },
    {
     "cell_type": "code",
     "collapsed": false,
     "input": [
      "# Unregularized training and test set\n",
      "df_train = df_combi.iloc[0:rows_train]\n",
      "df_test = df_combi.iloc[rows_train:]\n",
      "\n",
      "# Also drop columns we are not interested in\n",
      "df_train = df_train.drop(['PassengerId','Name', 'Sex', 'Ticket', 'Cabin', 'Embarked','Age','Title'], axis=1)\n",
      "df_test = df_test.drop(['Name', 'Sex', 'Ticket', 'Cabin', 'Embarked','Age','Title'], axis=1)\n",
      "\n",
      "# Finally drop NaNs\n",
      "df_train = df_train.dropna()\n",
      "\n",
      "# Regularized training and test set \n",
      "df_trainreg = df_combreg.iloc[0:rows_train]\n",
      "df_testreg = df_combreg.iloc[rows_train:]\n",
      "\n",
      "# Also drop columns we are not interested in\n",
      "df_trainreg = df_trainreg.drop(['PassengerId'], axis=1)\n",
      "#df_testreg.head(3)"
     ],
     "language": "python",
     "metadata": {},
     "outputs": [],
     "prompt_number": 21
    },
    {
     "cell_type": "markdown",
     "metadata": {},
     "source": [
      "# Prediction\n",
      "## Logistic Regression\n",
      "\n",
      "We are going to use <a href=\"http://scikit-learn.org/stable/modules/generated/sklearn.linear_model.LogisticRegression.html\"> sklearn logistic regression method </a> to obtain our result.\n",
      "\n",
      "#### Without features regularization:"
     ]
    },
    {
     "cell_type": "code",
     "collapsed": false,
     "input": [
      "X = df_train.drop('Survived',axis=1).values\n",
      "y = df_train['Survived'].values\n",
      "lr_object = LogisticRegression()\n",
      "lr_object.fit(X,y)\n",
      "X_test = df_test.drop(['PassengerId','Survived'],axis=1).values\n",
      "output_array =lr_object.predict(X_test)"
     ],
     "language": "python",
     "metadata": {},
     "outputs": [],
     "prompt_number": 22
    },
    {
     "cell_type": "markdown",
     "metadata": {},
     "source": [
      "We are going to keep all estimated survivals on a column in a DataFrame"
     ]
    },
    {
     "cell_type": "code",
     "collapsed": false,
     "input": [
      "# Pid and Survived Columns\n",
      "df_output = DataFrame()\n",
      "df_output['PassengerId'] = df_test['PassengerId']\n",
      "df_output['LR-Survived'] = output_array\n",
      "df_output.head(3)"
     ],
     "language": "python",
     "metadata": {},
     "outputs": [
      {
       "html": [
        "<div style=\"max-height:1000px;max-width:1500px;overflow:auto;\">\n",
        "<table border=\"1\" class=\"dataframe\">\n",
        "  <thead>\n",
        "    <tr style=\"text-align: right;\">\n",
        "      <th></th>\n",
        "      <th>PassengerId</th>\n",
        "      <th>LR-Survived</th>\n",
        "    </tr>\n",
        "  </thead>\n",
        "  <tbody>\n",
        "    <tr>\n",
        "      <th>891</th>\n",
        "      <td> 892</td>\n",
        "      <td> 0</td>\n",
        "    </tr>\n",
        "    <tr>\n",
        "      <th>892</th>\n",
        "      <td> 893</td>\n",
        "      <td> 0</td>\n",
        "    </tr>\n",
        "    <tr>\n",
        "      <th>893</th>\n",
        "      <td> 894</td>\n",
        "      <td> 0</td>\n",
        "    </tr>\n",
        "  </tbody>\n",
        "</table>\n",
        "<p>3 rows \u00d7 2 columns</p>\n",
        "</div>"
       ],
       "metadata": {},
       "output_type": "pyout",
       "prompt_number": 23,
       "text": [
        "     PassengerId  LR-Survived\n",
        "891          892            0\n",
        "892          893            0\n",
        "893          894            0\n",
        "\n",
        "[3 rows x 2 columns]"
       ]
      }
     ],
     "prompt_number": 23
    },
    {
     "cell_type": "markdown",
     "metadata": {},
     "source": [
      "#### With feature regularization:"
     ]
    },
    {
     "cell_type": "code",
     "collapsed": false,
     "input": [
      "X_reg = df_trainreg.values\n",
      "y_reg = df_train['Survived'].values\n",
      "lr_object = LogisticRegression()\n",
      "lr_object.fit(X_reg,y_reg)\n",
      "X_testReg = df_testreg.drop('PassengerId',axis=1).values\n",
      "output_array =lr_object.predict(X_testReg)\n",
      "\n",
      "# Save to a new column\n",
      "df_output['LR-SurvivedFReg'] = output_array\n",
      "df_output.head(3)"
     ],
     "language": "python",
     "metadata": {},
     "outputs": [
      {
       "html": [
        "<div style=\"max-height:1000px;max-width:1500px;overflow:auto;\">\n",
        "<table border=\"1\" class=\"dataframe\">\n",
        "  <thead>\n",
        "    <tr style=\"text-align: right;\">\n",
        "      <th></th>\n",
        "      <th>PassengerId</th>\n",
        "      <th>LR-Survived</th>\n",
        "      <th>LR-SurvivedFReg</th>\n",
        "    </tr>\n",
        "  </thead>\n",
        "  <tbody>\n",
        "    <tr>\n",
        "      <th>891</th>\n",
        "      <td> 892</td>\n",
        "      <td> 0</td>\n",
        "      <td> 0</td>\n",
        "    </tr>\n",
        "    <tr>\n",
        "      <th>892</th>\n",
        "      <td> 893</td>\n",
        "      <td> 0</td>\n",
        "      <td> 0</td>\n",
        "    </tr>\n",
        "    <tr>\n",
        "      <th>893</th>\n",
        "      <td> 894</td>\n",
        "      <td> 0</td>\n",
        "      <td> 0</td>\n",
        "    </tr>\n",
        "  </tbody>\n",
        "</table>\n",
        "<p>3 rows \u00d7 3 columns</p>\n",
        "</div>"
       ],
       "metadata": {},
       "output_type": "pyout",
       "prompt_number": 24,
       "text": [
        "     PassengerId  LR-Survived  LR-SurvivedFReg\n",
        "891          892            0                0\n",
        "892          893            0                0\n",
        "893          894            0                0\n",
        "\n",
        "[3 rows x 3 columns]"
       ]
      }
     ],
     "prompt_number": 24
    },
    {
     "cell_type": "markdown",
     "metadata": {},
     "source": [
      "#### Adding regularization to our Logistic Regression:"
     ]
    },
    {
     "cell_type": "code",
     "collapsed": false,
     "input": [
      "# Play with Logistic Regression parameters and see what happens\n",
      "# penalty = \"l2\" # Default is l1 (Norm)\n",
      "# dual = False # Default False if nsample > nfeatures only used with l2 (Dual formulation)\n",
      "# C = 0.5 # Regularization smaller is stronger, default is 1.0 (optional)\n",
      "# fit_intercept = False # Default True\n",
      "# class_weight = 'auto' # Over-/undersamples the samples of each class according to the given weights (optional)\n",
      "\n",
      "# Prediction\n",
      "lr_object = LogisticRegression(penalty = \"l1\",dual = False,C = 0.1 ,fit_intercept = True)\n",
      "lr_object.fit(X_reg,y_reg)\n",
      "output_array =lr_object.predict(X_testReg)\n",
      "df_output['LR-Survived_Reg'] = output_array\n",
      "df_output.head(3)"
     ],
     "language": "python",
     "metadata": {},
     "outputs": [
      {
       "html": [
        "<div style=\"max-height:1000px;max-width:1500px;overflow:auto;\">\n",
        "<table border=\"1\" class=\"dataframe\">\n",
        "  <thead>\n",
        "    <tr style=\"text-align: right;\">\n",
        "      <th></th>\n",
        "      <th>PassengerId</th>\n",
        "      <th>LR-Survived</th>\n",
        "      <th>LR-SurvivedFReg</th>\n",
        "      <th>LR-Survived_Reg</th>\n",
        "    </tr>\n",
        "  </thead>\n",
        "  <tbody>\n",
        "    <tr>\n",
        "      <th>891</th>\n",
        "      <td> 892</td>\n",
        "      <td> 0</td>\n",
        "      <td> 0</td>\n",
        "      <td> 0</td>\n",
        "    </tr>\n",
        "    <tr>\n",
        "      <th>892</th>\n",
        "      <td> 893</td>\n",
        "      <td> 0</td>\n",
        "      <td> 0</td>\n",
        "      <td> 0</td>\n",
        "    </tr>\n",
        "    <tr>\n",
        "      <th>893</th>\n",
        "      <td> 894</td>\n",
        "      <td> 0</td>\n",
        "      <td> 0</td>\n",
        "      <td> 0</td>\n",
        "    </tr>\n",
        "  </tbody>\n",
        "</table>\n",
        "<p>3 rows \u00d7 4 columns</p>\n",
        "</div>"
       ],
       "metadata": {},
       "output_type": "pyout",
       "prompt_number": 25,
       "text": [
        "     PassengerId  LR-Survived  LR-SurvivedFReg  LR-Survived_Reg\n",
        "891          892            0                0                0\n",
        "892          893            0                0                0\n",
        "893          894            0                0                0\n",
        "\n",
        "[3 rows x 4 columns]"
       ]
      }
     ],
     "prompt_number": 25
    },
    {
     "cell_type": "markdown",
     "metadata": {},
     "source": [
      "## Random Forest\n",
      "#### Without feature regularization"
     ]
    },
    {
     "cell_type": "code",
     "collapsed": false,
     "input": [
      "forest = RandomForestClassifier(n_estimators=2000,random_state=455)\n",
      "forest = forest.fit(X,y)\n",
      "output_array = forest.predict(X_test)\n",
      "df_output['RF'] = output_array\n",
      "df_output.head(3)"
     ],
     "language": "python",
     "metadata": {},
     "outputs": [
      {
       "html": [
        "<div style=\"max-height:1000px;max-width:1500px;overflow:auto;\">\n",
        "<table border=\"1\" class=\"dataframe\">\n",
        "  <thead>\n",
        "    <tr style=\"text-align: right;\">\n",
        "      <th></th>\n",
        "      <th>PassengerId</th>\n",
        "      <th>LR-Survived</th>\n",
        "      <th>LR-SurvivedFReg</th>\n",
        "      <th>LR-Survived_Reg</th>\n",
        "      <th>RF</th>\n",
        "    </tr>\n",
        "  </thead>\n",
        "  <tbody>\n",
        "    <tr>\n",
        "      <th>891</th>\n",
        "      <td> 892</td>\n",
        "      <td> 0</td>\n",
        "      <td> 0</td>\n",
        "      <td> 0</td>\n",
        "      <td> 0</td>\n",
        "    </tr>\n",
        "    <tr>\n",
        "      <th>892</th>\n",
        "      <td> 893</td>\n",
        "      <td> 0</td>\n",
        "      <td> 0</td>\n",
        "      <td> 0</td>\n",
        "      <td> 0</td>\n",
        "    </tr>\n",
        "    <tr>\n",
        "      <th>893</th>\n",
        "      <td> 894</td>\n",
        "      <td> 0</td>\n",
        "      <td> 0</td>\n",
        "      <td> 0</td>\n",
        "      <td> 0</td>\n",
        "    </tr>\n",
        "  </tbody>\n",
        "</table>\n",
        "<p>3 rows \u00d7 5 columns</p>\n",
        "</div>"
       ],
       "metadata": {},
       "output_type": "pyout",
       "prompt_number": 26,
       "text": [
        "     PassengerId  LR-Survived  LR-SurvivedFReg  LR-Survived_Reg  RF\n",
        "891          892            0                0                0   0\n",
        "892          893            0                0                0   0\n",
        "893          894            0                0                0   0\n",
        "\n",
        "[3 rows x 5 columns]"
       ]
      }
     ],
     "prompt_number": 26
    },
    {
     "cell_type": "markdown",
     "metadata": {},
     "source": [
      "#### With feature regularization"
     ]
    },
    {
     "cell_type": "code",
     "collapsed": false,
     "input": [
      "forest = RandomForestClassifier(n_estimators=2000,random_state=455)\n",
      "forest = forest.fit(X_reg,y_reg)\n",
      "output_array = forest.predict(X_testReg)\n",
      "df_output['RF-REG'] = output_array\n",
      "df_output.head(5)"
     ],
     "language": "python",
     "metadata": {},
     "outputs": [
      {
       "html": [
        "<div style=\"max-height:1000px;max-width:1500px;overflow:auto;\">\n",
        "<table border=\"1\" class=\"dataframe\">\n",
        "  <thead>\n",
        "    <tr style=\"text-align: right;\">\n",
        "      <th></th>\n",
        "      <th>PassengerId</th>\n",
        "      <th>LR-Survived</th>\n",
        "      <th>LR-SurvivedFReg</th>\n",
        "      <th>LR-Survived_Reg</th>\n",
        "      <th>RF</th>\n",
        "      <th>RF-REG</th>\n",
        "    </tr>\n",
        "  </thead>\n",
        "  <tbody>\n",
        "    <tr>\n",
        "      <th>891</th>\n",
        "      <td> 892</td>\n",
        "      <td> 0</td>\n",
        "      <td> 0</td>\n",
        "      <td> 0</td>\n",
        "      <td> 0</td>\n",
        "      <td> 0</td>\n",
        "    </tr>\n",
        "    <tr>\n",
        "      <th>892</th>\n",
        "      <td> 893</td>\n",
        "      <td> 0</td>\n",
        "      <td> 0</td>\n",
        "      <td> 0</td>\n",
        "      <td> 0</td>\n",
        "      <td> 0</td>\n",
        "    </tr>\n",
        "    <tr>\n",
        "      <th>893</th>\n",
        "      <td> 894</td>\n",
        "      <td> 0</td>\n",
        "      <td> 0</td>\n",
        "      <td> 0</td>\n",
        "      <td> 0</td>\n",
        "      <td> 0</td>\n",
        "    </tr>\n",
        "    <tr>\n",
        "      <th>894</th>\n",
        "      <td> 895</td>\n",
        "      <td> 0</td>\n",
        "      <td> 0</td>\n",
        "      <td> 0</td>\n",
        "      <td> 1</td>\n",
        "      <td> 1</td>\n",
        "    </tr>\n",
        "    <tr>\n",
        "      <th>895</th>\n",
        "      <td> 896</td>\n",
        "      <td> 1</td>\n",
        "      <td> 1</td>\n",
        "      <td> 1</td>\n",
        "      <td> 1</td>\n",
        "      <td> 0</td>\n",
        "    </tr>\n",
        "  </tbody>\n",
        "</table>\n",
        "<p>5 rows \u00d7 6 columns</p>\n",
        "</div>"
       ],
       "metadata": {},
       "output_type": "pyout",
       "prompt_number": 27,
       "text": [
        "     PassengerId  LR-Survived  LR-SurvivedFReg  LR-Survived_Reg  RF  RF-REG\n",
        "891          892            0                0                0   0       0\n",
        "892          893            0                0                0   0       0\n",
        "893          894            0                0                0   0       0\n",
        "894          895            0                0                0   1       1\n",
        "895          896            1                1                1   1       0\n",
        "\n",
        "[5 rows x 6 columns]"
       ]
      }
     ],
     "prompt_number": 27
    },
    {
     "cell_type": "markdown",
     "metadata": {},
     "source": [
      "## Neural Networks\n",
      "\n",
      "For this part we will use the following library: <a href=\"http://pybrain.org/\"> PyBrain</a>. We will build a NN with 16 inputs nodes (equals to number of features), 20 hidden layers, and 1 output (Survived)"
     ]
    },
    {
     "cell_type": "code",
     "collapsed": false,
     "input": [
      "features = X_reg.shape[1]\n",
      "print \"Number of Features: \" + str(features)"
     ],
     "language": "python",
     "metadata": {},
     "outputs": [
      {
       "output_type": "stream",
       "stream": "stdout",
       "text": [
        "Number of Features: 16\n"
       ]
      }
     ],
     "prompt_number": 28
    },
    {
     "cell_type": "code",
     "collapsed": false,
     "input": [
      "net = buildNetwork(features, 20, 1) #Inputs, Hidden layers, Output - Sigmoid Activation function as default"
     ],
     "language": "python",
     "metadata": {},
     "outputs": [],
     "prompt_number": 29
    },
    {
     "cell_type": "markdown",
     "metadata": {},
     "source": [
      "#### From PyBrain\n",
      "> In order for our networks to learn anything, we need a dataset that contains inputs and targets. PyBrain has the pybrain.dataset package for this, and we will use the SupervisedDataSet class for our needs."
     ]
    },
    {
     "cell_type": "code",
     "collapsed": false,
     "input": [
      "# TOFIX - ds_train.setField('Target') gives tuple index error\n",
      "#ds_train = SupervisedDataSet(features, 1)# 16 inputs and 1 output\n",
      "#ds_train.setField('input', X_reg)\n",
      "#ds_train.setField('target', y_reg)"
     ],
     "language": "python",
     "metadata": {},
     "outputs": [],
     "prompt_number": 30
    },
    {
     "cell_type": "markdown",
     "metadata": {},
     "source": [
      ">For adjusting parameters of modules in supervised learning, PyBrain has the concept of trainers. Trainers take a module and a dataset in order to train the module to fit the data in the dataset."
     ]
    },
    {
     "cell_type": "code",
     "collapsed": false,
     "input": [
      "#trainer = BackpropTrainer(net, ds_train, learningrate = 0.3, momentum=0.1, weightdecay=0.01)\n",
      "#trainer.trainEpochs(epochs=100)"
     ],
     "language": "python",
     "metadata": {},
     "outputs": [],
     "prompt_number": 31
    },
    {
     "cell_type": "markdown",
     "metadata": {},
     "source": [
      "## SVM  - STILL TODO"
     ]
    },
    {
     "cell_type": "markdown",
     "metadata": {},
     "source": [
      "## Results"
     ]
    },
    {
     "cell_type": "markdown",
     "metadata": {},
     "source": [
      "First lets save each individual column into a file and save it. Remember that our dataframe df_output saved all of our predictions."
     ]
    },
    {
     "cell_type": "code",
     "collapsed": false,
     "input": [
      "def savePrediction(df,column):\n",
      "    df_temp = DataFrame()\n",
      "    df_temp['PassengerId'] = df['PassengerId']\n",
      "    df_temp['Survived'] = df[column]\n",
      "    df_temp.to_csv('Results/' + column + '.csv', index = False)\n",
      "    return None\n",
      "\n",
      "for entry in df_output:\n",
      "    if not entry == 'PassengerId':\n",
      "        savePrediction(df_output,entry)"
     ],
     "language": "python",
     "metadata": {},
     "outputs": [],
     "prompt_number": 42
    },
    {
     "cell_type": "markdown",
     "metadata": {},
     "source": [
      "+ LR-Survived scored:  0.77990\n",
      "+ LR-SurvivedFReg scored: 0.77512\n",
      "+ LR-Survived_Reg scored: 0.77512\n",
      "+ RF scored: 0.76555\n",
      "+ RF-REG scored: 0.74163"
     ]
    }
   ],
   "metadata": {}
  }
 ]
}